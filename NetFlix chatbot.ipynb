{
 "cells": [
  {
   "cell_type": "code",
   "execution_count": 5,
   "metadata": {},
   "outputs": [
    {
     "data": {
      "text/html": [
       "<div>\n",
       "<style scoped>\n",
       "    .dataframe tbody tr th:only-of-type {\n",
       "        vertical-align: middle;\n",
       "    }\n",
       "\n",
       "    .dataframe tbody tr th {\n",
       "        vertical-align: top;\n",
       "    }\n",
       "\n",
       "    .dataframe thead th {\n",
       "        text-align: right;\n",
       "    }\n",
       "</style>\n",
       "<table border=\"1\" class=\"dataframe\">\n",
       "  <thead>\n",
       "    <tr style=\"text-align: right;\">\n",
       "      <th></th>\n",
       "      <th>show_id</th>\n",
       "      <th>type</th>\n",
       "      <th>title</th>\n",
       "      <th>director</th>\n",
       "      <th>cast</th>\n",
       "      <th>country</th>\n",
       "      <th>date_added</th>\n",
       "      <th>release_year</th>\n",
       "      <th>rating</th>\n",
       "      <th>duration</th>\n",
       "      <th>genres</th>\n",
       "      <th>description</th>\n",
       "    </tr>\n",
       "  </thead>\n",
       "  <tbody>\n",
       "    <tr>\n",
       "      <th>0</th>\n",
       "      <td>s1</td>\n",
       "      <td>TV Show</td>\n",
       "      <td>3%</td>\n",
       "      <td>NaN</td>\n",
       "      <td>João Miguel, Bianca Comparato, Michel Gomes, R...</td>\n",
       "      <td>Brazil</td>\n",
       "      <td>14-Aug-20</td>\n",
       "      <td>2020</td>\n",
       "      <td>TV-MA</td>\n",
       "      <td>4</td>\n",
       "      <td>International TV Shows, TV Dramas, TV Sci-Fi &amp;...</td>\n",
       "      <td>In a future where the elite inhabit an island ...</td>\n",
       "    </tr>\n",
       "    <tr>\n",
       "      <th>1</th>\n",
       "      <td>s10</td>\n",
       "      <td>Movie</td>\n",
       "      <td>1920</td>\n",
       "      <td>Vikram Bhatt</td>\n",
       "      <td>Rajneesh Duggal, Adah Sharma, Indraneil Sengup...</td>\n",
       "      <td>India</td>\n",
       "      <td>15-Dec-17</td>\n",
       "      <td>2008</td>\n",
       "      <td>TV-MA</td>\n",
       "      <td>143</td>\n",
       "      <td>Horror Movies, International Movies, Thrillers</td>\n",
       "      <td>An architect and his wife move into a castle t...</td>\n",
       "    </tr>\n",
       "    <tr>\n",
       "      <th>2</th>\n",
       "      <td>s100</td>\n",
       "      <td>Movie</td>\n",
       "      <td>3 Heroines</td>\n",
       "      <td>Iman Brotoseno</td>\n",
       "      <td>Reza Rahadian, Bunga Citra Lestari, Tara Basro...</td>\n",
       "      <td>Indonesia</td>\n",
       "      <td>05-Jan-19</td>\n",
       "      <td>2016</td>\n",
       "      <td>TV-PG</td>\n",
       "      <td>124</td>\n",
       "      <td>Dramas, International Movies, Sports Movies</td>\n",
       "      <td>Three Indonesian women break records by becomi...</td>\n",
       "    </tr>\n",
       "    <tr>\n",
       "      <th>3</th>\n",
       "      <td>s1000</td>\n",
       "      <td>Movie</td>\n",
       "      <td>Blue Mountain State: The Rise of Thadland</td>\n",
       "      <td>Lev L. Spiro</td>\n",
       "      <td>Alan Ritchson, Darin Brooks, James Cade, Rob R...</td>\n",
       "      <td>United States</td>\n",
       "      <td>01-Mar-16</td>\n",
       "      <td>2016</td>\n",
       "      <td>R</td>\n",
       "      <td>90</td>\n",
       "      <td>Comedies</td>\n",
       "      <td>New NFL star Thad buys his old teammates' belo...</td>\n",
       "    </tr>\n",
       "    <tr>\n",
       "      <th>4</th>\n",
       "      <td>s1001</td>\n",
       "      <td>TV Show</td>\n",
       "      <td>Blue Planet II</td>\n",
       "      <td>NaN</td>\n",
       "      <td>David Attenborough</td>\n",
       "      <td>United Kingdom</td>\n",
       "      <td>03-Dec-18</td>\n",
       "      <td>2017</td>\n",
       "      <td>TV-G</td>\n",
       "      <td>1</td>\n",
       "      <td>British TV Shows, Docuseries, Science &amp; Nature TV</td>\n",
       "      <td>This sequel to the award-winning nature series...</td>\n",
       "    </tr>\n",
       "  </tbody>\n",
       "</table>\n",
       "</div>"
      ],
      "text/plain": [
       "  show_id     type                                      title        director  \\\n",
       "0      s1  TV Show                                         3%             NaN   \n",
       "1     s10    Movie                                       1920    Vikram Bhatt   \n",
       "2    s100    Movie                                 3 Heroines  Iman Brotoseno   \n",
       "3   s1000    Movie  Blue Mountain State: The Rise of Thadland    Lev L. Spiro   \n",
       "4   s1001  TV Show                             Blue Planet II             NaN   \n",
       "\n",
       "                                                cast         country  \\\n",
       "0  João Miguel, Bianca Comparato, Michel Gomes, R...          Brazil   \n",
       "1  Rajneesh Duggal, Adah Sharma, Indraneil Sengup...           India   \n",
       "2  Reza Rahadian, Bunga Citra Lestari, Tara Basro...       Indonesia   \n",
       "3  Alan Ritchson, Darin Brooks, James Cade, Rob R...   United States   \n",
       "4                                 David Attenborough  United Kingdom   \n",
       "\n",
       "  date_added  release_year rating  duration  \\\n",
       "0  14-Aug-20          2020  TV-MA         4   \n",
       "1  15-Dec-17          2008  TV-MA       143   \n",
       "2  05-Jan-19          2016  TV-PG       124   \n",
       "3  01-Mar-16          2016      R        90   \n",
       "4  03-Dec-18          2017   TV-G         1   \n",
       "\n",
       "                                              genres  \\\n",
       "0  International TV Shows, TV Dramas, TV Sci-Fi &...   \n",
       "1     Horror Movies, International Movies, Thrillers   \n",
       "2        Dramas, International Movies, Sports Movies   \n",
       "3                                           Comedies   \n",
       "4  British TV Shows, Docuseries, Science & Nature TV   \n",
       "\n",
       "                                         description  \n",
       "0  In a future where the elite inhabit an island ...  \n",
       "1  An architect and his wife move into a castle t...  \n",
       "2  Three Indonesian women break records by becomi...  \n",
       "3  New NFL star Thad buys his old teammates' belo...  \n",
       "4  This sequel to the award-winning nature series...  "
      ]
     },
     "execution_count": 5,
     "metadata": {},
     "output_type": "execute_result"
    }
   ],
   "source": [
    "import pandas as pd\n",
    "df = pd.read_csv(r'C:\\Users\\Owner\\OneDrive\\Pictures\\Documents\\DataAnalystPortfolio\\NetFlix.csv')\n",
    "df.head()"
   ]
  },
  {
   "cell_type": "code",
   "execution_count": 7,
   "metadata": {},
   "outputs": [
    {
     "name": "stdout",
     "output_type": "stream",
     "text": [
      "<class 'pandas.core.frame.DataFrame'>\n",
      "Int64Index: 4808 entries, 1 to 7786\n",
      "Data columns (total 12 columns):\n",
      " #   Column        Non-Null Count  Dtype \n",
      "---  ------        --------------  ----- \n",
      " 0   show_id       4808 non-null   object\n",
      " 1   type          4808 non-null   object\n",
      " 2   title         4808 non-null   object\n",
      " 3   director      4808 non-null   object\n",
      " 4   cast          4808 non-null   object\n",
      " 5   country       4808 non-null   object\n",
      " 6   date_added    4808 non-null   object\n",
      " 7   release_year  4808 non-null   int64 \n",
      " 8   rating        4808 non-null   object\n",
      " 9   duration      4808 non-null   int64 \n",
      " 10  genres        4808 non-null   object\n",
      " 11  description   4808 non-null   object\n",
      "dtypes: int64(2), object(10)\n",
      "memory usage: 488.3+ KB\n"
     ]
    }
   ],
   "source": [
    "df = df.dropna()\n",
    "df.info()"
   ]
  },
  {
   "cell_type": "code",
   "execution_count": 8,
   "metadata": {},
   "outputs": [
    {
     "data": {
      "text/plain": [
       "4808"
      ]
     },
     "execution_count": 8,
     "metadata": {},
     "output_type": "execute_result"
    }
   ],
   "source": [
    "data = df.to_dict('records') # Get only 1000 records. More records will make it slower to index\n",
    "len(data)"
   ]
  },
  {
   "cell_type": "code",
   "execution_count": 9,
   "metadata": {},
   "outputs": [
    {
     "data": {
      "text/plain": [
       "[{'show_id': 's10',\n",
       "  'type': 'Movie',\n",
       "  'title': '1920',\n",
       "  'director': 'Vikram Bhatt',\n",
       "  'cast': 'Rajneesh Duggal, Adah Sharma, Indraneil Sengupta, Anjori Alagh, Rajendranath Zutshi, Vipin Sharma, Amin Hajee, Shri Vallabh Vyas',\n",
       "  'country': 'India',\n",
       "  'date_added': '15-Dec-17',\n",
       "  'release_year': 2008,\n",
       "  'rating': 'TV-MA',\n",
       "  'duration': 143,\n",
       "  'genres': 'Horror Movies, International Movies, Thrillers',\n",
       "  'description': 'An architect and his wife move into a castle that is slated to become a luxury hotel. But something inside is determined to stop the renovation.'},\n",
       " {'show_id': 's100',\n",
       "  'type': 'Movie',\n",
       "  'title': '3 Heroines',\n",
       "  'director': 'Iman Brotoseno',\n",
       "  'cast': 'Reza Rahadian, Bunga Citra Lestari, Tara Basro, Chelsea Islan',\n",
       "  'country': 'Indonesia',\n",
       "  'date_added': '05-Jan-19',\n",
       "  'release_year': 2016,\n",
       "  'rating': 'TV-PG',\n",
       "  'duration': 124,\n",
       "  'genres': 'Dramas, International Movies, Sports Movies',\n",
       "  'description': 'Three Indonesian women break records by becoming the first of their nation to medal in archery at the Seoul Olympics in the summer of 1988.'},\n",
       " {'show_id': 's1000',\n",
       "  'type': 'Movie',\n",
       "  'title': 'Blue Mountain State: The Rise of Thadland',\n",
       "  'director': 'Lev L. Spiro',\n",
       "  'cast': 'Alan Ritchson, Darin Brooks, James Cade, Rob Ramsay, Chris Romano, Frankie Shaw, Omari Newton, Ed Marinaro, Dhani Jones, Ed Amatrudo, Jimmy Tatro',\n",
       "  'country': 'United States',\n",
       "  'date_added': '01-Mar-16',\n",
       "  'release_year': 2016,\n",
       "  'rating': 'R',\n",
       "  'duration': 90,\n",
       "  'genres': 'Comedies',\n",
       "  'description': \"New NFL star Thad buys his old teammates' beloved frat house, renames it Thadland and throws the raunchiest, most debauched party in school history.\"},\n",
       " {'show_id': 's1002',\n",
       "  'type': 'Movie',\n",
       "  'title': 'Blue Ruin',\n",
       "  'director': 'Jeremy Saulnier',\n",
       "  'cast': 'Macon Blair, Devin Ratray, Amy Hargreaves, Kevin Kolack, Eve Plumb, David W. Thompson, Brent Werzner, Stacy Rock, Sidné Anderson, Sandy Barnett, Bonnie Johnson',\n",
       "  'country': 'United States, France',\n",
       "  'date_added': '25-Feb-19',\n",
       "  'release_year': 2013,\n",
       "  'rating': 'R',\n",
       "  'duration': 90,\n",
       "  'genres': 'Independent Movies, Thrillers',\n",
       "  'description': 'Bad news from the past unhinges vagabond Dwight Evans, sending him on a mission of bloody retribution that takes him to his childhood hometown.'},\n",
       " {'show_id': 's1003',\n",
       "  'type': 'Movie',\n",
       "  'title': 'Blue Streak',\n",
       "  'director': 'Les Mayfield',\n",
       "  'cast': 'Martin Lawrence, Luke Wilson, Peter Greene, Dave Chappelle, Nicole Ari Parker, Graham Beckel, Robert Miranda, Olek Krupa, Saverio Guerra, Richard C. Sarafian, William Forsythe',\n",
       "  'country': 'Germany, United States',\n",
       "  'date_added': '01-Jan-21',\n",
       "  'release_year': 1999,\n",
       "  'rating': 'PG-13',\n",
       "  'duration': 94,\n",
       "  'genres': 'Action & Adventure, Comedies',\n",
       "  'description': 'A jewel thief returns to his hiding place after a stint in jail — only to find that his diamond is buried under a newly constructed police station.'}]"
      ]
     },
     "execution_count": 9,
     "metadata": {},
     "output_type": "execute_result"
    }
   ],
   "source": [
    "data[:5]"
   ]
  },
  {
   "cell_type": "code",
   "execution_count": 15,
   "metadata": {},
   "outputs": [],
   "source": [
    "from qdrant_client import models, QdrantClient\n",
    "from sentence_transformers import SentenceTransformer"
   ]
  },
  {
   "cell_type": "code",
   "execution_count": 16,
   "metadata": {},
   "outputs": [
    {
     "data": {
      "application/vnd.jupyter.widget-view+json": {
       "model_id": "e1b433d7e7d84c0ebb85d07e8bd0af62",
       "version_major": 2,
       "version_minor": 0
      },
      "text/plain": [
       "modules.json:   0%|          | 0.00/349 [00:00<?, ?B/s]"
      ]
     },
     "metadata": {},
     "output_type": "display_data"
    },
    {
     "name": "stderr",
     "output_type": "stream",
     "text": [
      "c:\\Users\\Owner\\anaconda3\\Lib\\site-packages\\huggingface_hub\\file_download.py:148: UserWarning: `huggingface_hub` cache-system uses symlinks by default to efficiently store duplicated files but your machine does not support them in C:\\Users\\Owner\\.cache\\huggingface\\hub\\models--sentence-transformers--all-MiniLM-L6-v2. Caching files will still work but in a degraded version that might require more space on your disk. This warning can be disabled by setting the `HF_HUB_DISABLE_SYMLINKS_WARNING` environment variable. For more details, see https://huggingface.co/docs/huggingface_hub/how-to-cache#limitations.\n",
      "To support symlinks on Windows, you either need to activate Developer Mode or to run Python as an administrator. In order to see activate developer mode, see this article: https://docs.microsoft.com/en-us/windows/apps/get-started/enable-your-device-for-development\n",
      "  warnings.warn(message)\n"
     ]
    },
    {
     "data": {
      "application/vnd.jupyter.widget-view+json": {
       "model_id": "fd2158a6b4ad4954a9b94a952362a386",
       "version_major": 2,
       "version_minor": 0
      },
      "text/plain": [
       "config_sentence_transformers.json:   0%|          | 0.00/116 [00:00<?, ?B/s]"
      ]
     },
     "metadata": {},
     "output_type": "display_data"
    },
    {
     "data": {
      "application/vnd.jupyter.widget-view+json": {
       "model_id": "46aa54152b8945e5acc9f2719791e6ee",
       "version_major": 2,
       "version_minor": 0
      },
      "text/plain": [
       "README.md:   0%|          | 0.00/10.7k [00:00<?, ?B/s]"
      ]
     },
     "metadata": {},
     "output_type": "display_data"
    },
    {
     "data": {
      "application/vnd.jupyter.widget-view+json": {
       "model_id": "fb5d9dc9f55e4591989eb6f6b27c40ab",
       "version_major": 2,
       "version_minor": 0
      },
      "text/plain": [
       "sentence_bert_config.json:   0%|          | 0.00/53.0 [00:00<?, ?B/s]"
      ]
     },
     "metadata": {},
     "output_type": "display_data"
    },
    {
     "data": {
      "application/vnd.jupyter.widget-view+json": {
       "model_id": "e2791f7a74394b60ab0ed44641ddda32",
       "version_major": 2,
       "version_minor": 0
      },
      "text/plain": [
       "config.json:   0%|          | 0.00/612 [00:00<?, ?B/s]"
      ]
     },
     "metadata": {},
     "output_type": "display_data"
    },
    {
     "data": {
      "application/vnd.jupyter.widget-view+json": {
       "model_id": "1e755139fd8241a2b3824d73138dc006",
       "version_major": 2,
       "version_minor": 0
      },
      "text/plain": [
       "model.safetensors:   0%|          | 0.00/90.9M [00:00<?, ?B/s]"
      ]
     },
     "metadata": {},
     "output_type": "display_data"
    },
    {
     "data": {
      "application/vnd.jupyter.widget-view+json": {
       "model_id": "682a75507cb24246be497ea640752979",
       "version_major": 2,
       "version_minor": 0
      },
      "text/plain": [
       "tokenizer_config.json:   0%|          | 0.00/350 [00:00<?, ?B/s]"
      ]
     },
     "metadata": {},
     "output_type": "display_data"
    },
    {
     "data": {
      "application/vnd.jupyter.widget-view+json": {
       "model_id": "291c85f7f2bb4724b15383f24731e039",
       "version_major": 2,
       "version_minor": 0
      },
      "text/plain": [
       "vocab.txt:   0%|          | 0.00/232k [00:00<?, ?B/s]"
      ]
     },
     "metadata": {},
     "output_type": "display_data"
    },
    {
     "data": {
      "application/vnd.jupyter.widget-view+json": {
       "model_id": "91c165f1d0b34fa1a60ba4e0555fce83",
       "version_major": 2,
       "version_minor": 0
      },
      "text/plain": [
       "tokenizer.json:   0%|          | 0.00/466k [00:00<?, ?B/s]"
      ]
     },
     "metadata": {},
     "output_type": "display_data"
    },
    {
     "data": {
      "application/vnd.jupyter.widget-view+json": {
       "model_id": "5dd5c413478840e29ee50be40597c63b",
       "version_major": 2,
       "version_minor": 0
      },
      "text/plain": [
       "special_tokens_map.json:   0%|          | 0.00/112 [00:00<?, ?B/s]"
      ]
     },
     "metadata": {},
     "output_type": "display_data"
    },
    {
     "data": {
      "application/vnd.jupyter.widget-view+json": {
       "model_id": "d4bcbb4bb2224774aa0ce8771097494f",
       "version_major": 2,
       "version_minor": 0
      },
      "text/plain": [
       "1_Pooling/config.json:   0%|          | 0.00/190 [00:00<?, ?B/s]"
      ]
     },
     "metadata": {},
     "output_type": "display_data"
    }
   ],
   "source": [
    "encoder = SentenceTransformer('all-MiniLM-L6-v2') # Model to create embeddings"
   ]
  },
  {
   "cell_type": "code",
   "execution_count": 17,
   "metadata": {},
   "outputs": [],
   "source": [
    "# create the vector database client\n",
    "qdrant = QdrantClient(\":memory:\") # Create in-memory Qdrant instance"
   ]
  },
  {
   "cell_type": "code",
   "execution_count": 38,
   "metadata": {},
   "outputs": [
    {
     "data": {
      "text/plain": [
       "True"
      ]
     },
     "execution_count": 38,
     "metadata": {},
     "output_type": "execute_result"
    }
   ],
   "source": [
    "# Create collection to store movies\n",
    "qdrant.recreate_collection(\n",
    "    collection_name=\"NetFlix\",\n",
    "    vectors_config=models.VectorParams(\n",
    "        size=encoder.get_sentence_embedding_dimension(), # Vector size is defined by used model\n",
    "        distance=models.Distance.COSINE\n",
    "    )\n",
    ")"
   ]
  },
  {
   "cell_type": "code",
   "execution_count": 39,
   "metadata": {},
   "outputs": [],
   "source": [
    "# vectorize!\n",
    "qdrant.upload_points(\n",
    "    collection_name=\"NetFlix\",\n",
    "    points=[\n",
    "        models.PointStruct(\n",
    "            id=idx,\n",
    "            vector=encoder.encode(doc[\"description\"]).tolist(),\n",
    "            payload=doc,\n",
    "        ) for idx, doc in enumerate(data) # data is the variable holding all the wines\n",
    "    ]\n",
    ")\n"
   ]
  },
  {
   "cell_type": "code",
   "execution_count": 62,
   "metadata": {},
   "outputs": [],
   "source": [
    "user_prompt = \"Suggest me a few fantasy movies about dragons \""
   ]
  },
  {
   "cell_type": "code",
   "execution_count": 63,
   "metadata": {},
   "outputs": [
    {
     "name": "stdout",
     "output_type": "stream",
     "text": [
      "{'show_id': 's1856', 'type': 'Movie', 'title': 'Dragons: Dawn of the Dragon Racers', 'director': 'Elaine Bogan, John Sanford', 'cast': 'Jay Baruchel, America Ferrera, Zack Pearlman, Christopher Mintz-Plasse, T.J. Miller, Andree Vermeulen', 'country': 'United States', 'date_added': '16-Dec-18', 'release_year': 2014, 'rating': 'TV-PG', 'duration': 27, 'genres': 'Children & Family Movies, Comedies', 'description': 'The \"How to Train Your Dragon\" adventure continues when a hunt for lost sheep turns into a fierce, fun-filled competition.'} score: 0.45616815333882416\n",
      "{'show_id': 's1852', 'type': 'Movie', 'title': 'Dragonheart: A New Beginning', 'director': 'Doug Lefler', 'cast': 'Christopher Masterson, Harry Van Gorkum, Rona Figueroa, Matt Hickey, Henry O, Tom Burke, Robby Benson, Ken Shorter, John Woodnutt, Lubomir Misak', 'country': 'United States', 'date_added': '01-Jan-20', 'release_year': 2000, 'rating': 'PG', 'duration': 84, 'genres': 'Action & Adventure, Sci-Fi & Fantasy', 'description': \"This sequel introduces Draco the dragon's offspring, Drake, who dreams of becoming a knight and teams up with a stable boy to master his skills.\"} score: 0.44405951434215996\n",
      "{'show_id': 's1850', 'type': 'Movie', 'title': 'Dragonheart', 'director': 'Rob Cohen', 'cast': 'Sean Connery, Dennis Quaid, David Thewlis, Pete Postlethwaite, Dina Meyer, Jason Isaacs, Brian Thompson, Julie Christie', 'country': 'United States', 'date_added': '01-Jan-20', 'release_year': 1996, 'rating': 'PG-13', 'duration': 103, 'genres': 'Action & Adventure, Sci-Fi & Fantasy', 'description': 'In ancient times when majestic fire-breathers soared through the skies, a knight comes face to face and heart to heart with the last dragon on Earth.'} score: 0.4134208372919864\n"
     ]
    }
   ],
   "source": [
    "# Search time for movies!\n",
    "hits = qdrant.search(\n",
    "    collection_name=\"NetFlix\",\n",
    "    query_vector=encoder.encode(user_prompt).tolist(),\n",
    "    limit=3\n",
    ")\n",
    "for hit in hits:\n",
    "  print(hit.payload, \"score:\", hit.score)"
   ]
  },
  {
   "cell_type": "code",
   "execution_count": 64,
   "metadata": {},
   "outputs": [],
   "source": [
    "# define a variable to hold the search results\n",
    "search_results = [hit.payload for hit in hits]"
   ]
  },
  {
   "cell_type": "code",
   "execution_count": 65,
   "metadata": {},
   "outputs": [
    {
     "name": "stdout",
     "output_type": "stream",
     "text": [
      "ChatCompletionMessage(content='I recommend \"Dragonheart\" - In ancient times when majestic fire-breathers soared through the skies, a knight comes face to face and heart to heart with the last dragon on Earth. It combines adventure with mythical creatures and outlaws.', role='assistant', function_call=None, tool_calls=None)\n"
     ]
    }
   ],
   "source": [
    "import openai\n",
    "\n",
    "# Setup the OpenAI client with your API key\n",
    "client = openai.OpenAI(\n",
    "    api_key=\"API_key\"  # Replace this with your actual OpenAI API key\n",
    ")\n",
    "\n",
    "# Prepare your chat messages\n",
    "messages = [\n",
    "    {\"role\": \"system\", \"content\": \"You are chatbot, a netflix specialist. Your top priority is to help guide users into selecting netflix movies and telling them a brief description.\"},\n",
    "    {\"role\": \"user\", \"content\": \"Suggest me an adventure movie with outlaws\"},\n",
    "    {\"role\": \"assistant\", \"content\": str(search_results)}\n",
    "]\n",
    "\n",
    "# Call the API to get a chat completion\n",
    "completion = client.chat.completions.create(\n",
    "    model=\"gpt-3.5-turbo\",  # Choose the appropriate model. For chat, \"gpt-3.5-turbo\" is suitable\n",
    "    messages=messages,\n",
    "    max_tokens=150\n",
    ")\n",
    "\n",
    "# Print the response from the model\n",
    "print(completion.choices[0].message)\n"
   ]
  }
 ],
 "metadata": {
  "kernelspec": {
   "display_name": "base",
   "language": "python",
   "name": "python3"
  },
  "language_info": {
   "codemirror_mode": {
    "name": "ipython",
    "version": 3
   },
   "file_extension": ".py",
   "mimetype": "text/x-python",
   "name": "python",
   "nbconvert_exporter": "python",
   "pygments_lexer": "ipython3",
   "version": "3.11.4"
  }
 },
 "nbformat": 4,
 "nbformat_minor": 2
}
